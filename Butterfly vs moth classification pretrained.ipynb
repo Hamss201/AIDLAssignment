{
 "cells": [
  {
   "cell_type": "code",
   "execution_count": 11,
   "id": "2195eeb1",
   "metadata": {},
   "outputs": [],
   "source": [
    "train_dir = '/Users/user/OneDrive/Documents/archive/train'\n",
    "test_dir = '/Users/user/OneDrive/Documents/archive/test'"
   ]
  },
  {
   "cell_type": "code",
   "execution_count": 12,
   "id": "95e7c11a",
   "metadata": {
    "scrolled": true
   },
   "outputs": [
    {
     "name": "stdout",
     "output_type": "stream",
     "text": [
      "101\n",
      "100\n",
      "77\n",
      "71\n"
     ]
    }
   ],
   "source": [
    "import os\n",
    "print(len(os.listdir('/Users/user/OneDrive/Documents/archive/train/Butterflies')))\n",
    "print(len(os.listdir('/Users/user/OneDrive/Documents/archive/train/Moth')))\n",
    "print(len(os.listdir('/Users/user/OneDrive/Documents/archive/test/Butterflies')))\n",
    "print(len(os.listdir('/Users/user/OneDrive/Documents/archive/test/Moth')))"
   ]
  },
  {
   "cell_type": "code",
   "execution_count": 13,
   "id": "df180855",
   "metadata": {},
   "outputs": [
    {
     "name": "stdout",
     "output_type": "stream",
     "text": [
      "Found 161 images belonging to 2 classes.\n",
      "Found 40 images belonging to 2 classes.\n"
     ]
    }
   ],
   "source": [
    "import tensorflow as tf\n",
    "from tensorflow.keras.preprocessing.image import ImageDataGenerator\n",
    "\n",
    "train_datagen = ImageDataGenerator(\n",
    "    rescale=1./255,\n",
    "    validation_split=0.2  \n",
    ")\n",
    "\n",
    "train_data = train_datagen.flow_from_directory(\n",
    "    train_dir,\n",
    "    target_size=(256,256),\n",
    "    batch_size=32,\n",
    "    class_mode='binary',  \n",
    "    subset='training'  \n",
    ")\n",
    "\n",
    "validation_datagen = ImageDataGenerator(\n",
    "    rescale=1./255,\n",
    "    validation_split=0.2 \n",
    ")\n",
    "\n",
    "validation_data = validation_datagen.flow_from_directory(\n",
    "    train_dir,\n",
    "    target_size=(256,256),\n",
    "    batch_size=32,\n",
    "    class_mode='binary',\n",
    "    subset='validation' \n",
    ")"
   ]
  },
  {
   "cell_type": "code",
   "execution_count": 14,
   "id": "b5e63632",
   "metadata": {},
   "outputs": [],
   "source": [
    "from tensorflow import keras\n",
    "from keras import Sequential\n",
    "from keras.layers import Dense,Conv2D,MaxPooling2D,Flatten\n",
    "\n",
    "resnet_model = Sequential()    \n",
    "pretrained_model = tf.keras.applications.ResNet50(include_top = False, \n",
    "                                                input_shape = (256,256,3),\n",
    "                                                pooling = 'max', classes = 2,\n",
    "                                                weights = 'imagenet')\n",
    "for layer in pretrained_model.layers:\n",
    "    layer.trainable = False  \n",
    "\n",
    "resnet_model.add(pretrained_model)\n",
    "resnet_model.add(Flatten())\n",
    "resnet_model.add(Dense(512, activation = 'relu'))\n",
    "resnet_model.add(Dense(1, activation = 'sigmoid'))"
   ]
  },
  {
   "cell_type": "code",
   "execution_count": 15,
   "id": "43bc9d7b",
   "metadata": {},
   "outputs": [
    {
     "name": "stdout",
     "output_type": "stream",
     "text": [
      "Model: \"sequential_1\"\n",
      "_________________________________________________________________\n",
      " Layer (type)                Output Shape              Param #   \n",
      "=================================================================\n",
      " resnet50 (Functional)       (None, 2048)              23587712  \n",
      "                                                                 \n",
      " flatten_1 (Flatten)         (None, 2048)              0         \n",
      "                                                                 \n",
      " dense_2 (Dense)             (None, 512)               1049088   \n",
      "                                                                 \n",
      " dense_3 (Dense)             (None, 1)                 513       \n",
      "                                                                 \n",
      "=================================================================\n",
      "Total params: 24637313 (93.98 MB)\n",
      "Trainable params: 1049601 (4.00 MB)\n",
      "Non-trainable params: 23587712 (89.98 MB)\n",
      "_________________________________________________________________\n"
     ]
    }
   ],
   "source": [
    "resnet_model.summary()"
   ]
  },
  {
   "cell_type": "code",
   "execution_count": 16,
   "id": "86bf6157",
   "metadata": {},
   "outputs": [],
   "source": [
    "from keras.optimizers import Adam\n",
    "resnet_model.compile(optimizer=Adam(learning_rate=0.001),loss='binary_crossentropy',metrics=['accuracy'])"
   ]
  },
  {
   "cell_type": "code",
   "execution_count": 17,
   "id": "ce27a80c",
   "metadata": {},
   "outputs": [
    {
     "name": "stdout",
     "output_type": "stream",
     "text": [
      "Epoch 1/3\n",
      "6/6 [==============================] - 12s 2s/step - loss: 4.0539 - accuracy: 0.4845 - val_loss: 1.3360 - val_accuracy: 0.5000\n",
      "Epoch 2/3\n",
      "6/6 [==============================] - 9s 2s/step - loss: 2.4242 - accuracy: 0.5342 - val_loss: 2.0260 - val_accuracy: 0.5000\n",
      "Epoch 3/3\n",
      "6/6 [==============================] - 10s 2s/step - loss: 1.5556 - accuracy: 0.5528 - val_loss: 2.3710 - val_accuracy: 0.5000\n"
     ]
    }
   ],
   "source": [
    "history = resnet_model.fit(train_data, epochs=3, validation_data=validation_data)"
   ]
  },
  {
   "cell_type": "code",
   "execution_count": 18,
   "id": "e29367c4",
   "metadata": {},
   "outputs": [
    {
     "data": {
      "image/png": "[encoded data removed]",
      "text/plain": [
       "<Figure size 640x480 with 1 Axes>"
      ]
     },
     "metadata": {},
     "output_type": "display_data"
    }
   ],
   "source": [
    "import matplotlib.pyplot as plt\n",
    "\n",
    "plt.plot(history.history['accuracy'],color='red',label='train')\n",
    "plt.plot(history.history['val_accuracy'],color='blue',label='validation')\n",
    "plt.legend()\n",
    "plt.show()"
   ]
  },
  {
   "cell_type": "code",
   "execution_count": 19,
   "id": "7ae83e6e",
   "metadata": {},
   "outputs": [
    {
     "data": {
      "image/png": "[encoded data removed]",
      "text/plain": [
       "<Figure size 640x480 with 1 Axes>"
      ]
     },
     "metadata": {},
     "output_type": "display_data"
    }
   ],
   "source": [
    "plt.plot(history.history['loss'],color='red',label='train')\n",
    "plt.plot(history.history['val_loss'],color='blue',label='validation')\n",
    "plt.legend()\n",
    "plt.show()"
   ]
  },
  {
   "cell_type": "code",
   "execution_count": 20,
   "id": "8e677bb6",
   "metadata": {},
   "outputs": [
    {
     "name": "stdout",
     "output_type": "stream",
     "text": [
      "Found 148 images belonging to 2 classes.\n"
     ]
    }
   ],
   "source": [
    "test_datagen = ImageDataGenerator(rescale=1./255)\n",
    "test_data = test_datagen.flow_from_directory(\n",
    "    test_dir,\n",
    "    target_size=(256,256),\n",
    "    batch_size=32,\n",
    "    class_mode='binary'\n",
    ")"
   ]
  },
  {
   "cell_type": "code",
   "execution_count": 21,
   "id": "41d81a2b",
   "metadata": {},
   "outputs": [
    {
     "name": "stdout",
     "output_type": "stream",
     "text": [
      "5/5 [==============================] - 7s 1s/step\n",
      "[[0.99681234]\n",
      " [0.9880304 ]\n",
      " [0.97089374]\n",
      " [0.98682296]\n",
      " [0.9990813 ]\n",
      " [0.9888342 ]\n",
      " [0.99364096]\n",
      " [0.9847451 ]\n",
      " [0.9888064 ]\n",
      " [0.98853624]\n",
      " [0.99106103]\n",
      " [0.96555454]\n",
      " [0.9867663 ]\n",
      " [0.9804527 ]\n",
      " [0.9965213 ]\n",
      " [0.9960218 ]\n",
      " [0.99639314]\n",
      " [0.98267376]\n",
      " [0.9828705 ]\n",
      " [0.98931265]\n",
      " [0.99188983]\n",
      " [0.9884983 ]\n",
      " [0.98829496]\n",
      " [0.9965124 ]\n",
      " [0.97924185]\n",
      " [0.9973826 ]\n",
      " [0.9911857 ]\n",
      " [0.99501675]\n",
      " [0.9870935 ]\n",
      " [0.9885997 ]\n",
      " [0.98474985]\n",
      " [0.98572874]\n",
      " [0.99087185]\n",
      " [0.99688894]\n",
      " [0.97969055]\n",
      " [0.9962288 ]\n",
      " [0.9806158 ]\n",
      " [0.997511  ]\n",
      " [0.9929209 ]\n",
      " [0.993042  ]\n",
      " [0.9634493 ]\n",
      " [0.9950115 ]\n",
      " [0.9629695 ]\n",
      " [0.0066069 ]\n",
      " [0.97945863]\n",
      " [0.97826105]\n",
      " [0.9971357 ]\n",
      " [0.99120355]\n",
      " [0.9876382 ]\n",
      " [0.99602425]\n",
      " [0.99745107]\n",
      " [0.9884957 ]\n",
      " [0.9981121 ]\n",
      " [0.9943045 ]\n",
      " [0.9986196 ]\n",
      " [0.98894036]\n",
      " [0.9515923 ]\n",
      " [0.99749124]\n",
      " [0.9894088 ]\n",
      " [0.9776269 ]\n",
      " [0.99329925]\n",
      " [0.9884029 ]\n",
      " [0.9934854 ]\n",
      " [0.99024636]\n",
      " [0.99712664]\n",
      " [0.98361254]\n",
      " [0.98796093]\n",
      " [0.9748865 ]\n",
      " [0.9921207 ]\n",
      " [0.98139244]\n",
      " [0.99378955]\n",
      " [0.9919866 ]\n",
      " [0.9954501 ]\n",
      " [0.9830781 ]\n",
      " [0.97422373]\n",
      " [0.99469167]\n",
      " [0.98306954]\n",
      " [0.99946326]\n",
      " [0.98328817]\n",
      " [0.9954276 ]\n",
      " [0.9939555 ]\n",
      " [0.99796695]\n",
      " [0.9952327 ]\n",
      " [0.9888862 ]\n",
      " [0.9983956 ]\n",
      " [0.98822397]\n",
      " [0.98369277]\n",
      " [0.9787714 ]\n",
      " [0.9894015 ]\n",
      " [0.99530035]\n",
      " [0.98726845]\n",
      " [0.98506767]\n",
      " [0.9820018 ]\n",
      " [0.9859185 ]\n",
      " [0.9855389 ]\n",
      " [0.99364793]\n",
      " [0.9769385 ]\n",
      " [0.9886564 ]\n",
      " [0.9671409 ]\n",
      " [0.9864799 ]\n",
      " [0.9748055 ]\n",
      " [0.9960178 ]\n",
      " [0.99561036]\n",
      " [0.97844654]\n",
      " [0.9891177 ]\n",
      " [0.99595565]\n",
      " [0.97375906]\n",
      " [0.98648757]\n",
      " [0.9882875 ]\n",
      " [0.99224734]\n",
      " [0.9840436 ]\n",
      " [0.9946089 ]\n",
      " [0.9924408 ]\n",
      " [0.98144084]\n",
      " [0.97889507]\n",
      " [0.9792478 ]\n",
      " [0.9861616 ]\n",
      " [0.97361803]\n",
      " [0.99111146]\n",
      " [0.96229696]\n",
      " [0.9976976 ]\n",
      " [0.9908663 ]\n",
      " [0.98740155]\n",
      " [0.9753556 ]\n",
      " [0.9804    ]\n",
      " [0.9992285 ]\n",
      " [0.9778404 ]\n",
      " [0.9958552 ]\n",
      " [0.9992176 ]\n",
      " [0.9986991 ]\n",
      " [0.98810637]\n",
      " [0.9750949 ]\n",
      " [0.9974165 ]\n",
      " [0.99351263]\n",
      " [0.9903891 ]\n",
      " [0.9804249 ]\n",
      " [0.9856758 ]\n",
      " [0.99340117]\n",
      " [0.9807456 ]\n",
      " [0.987576  ]\n",
      " [0.97459304]\n",
      " [0.99170154]\n",
      " [0.9805253 ]\n",
      " [0.98167866]\n",
      " [0.97012687]\n",
      " [0.9906101 ]\n",
      " [0.97930723]\n",
      " [0.9939789 ]]\n"
     ]
    }
   ],
   "source": [
    "predictions = resnet_model.predict(test_data)\n",
    "print(predictions)"
   ]
  },
  {
   "cell_type": "code",
   "execution_count": 22,
   "id": "5b0d6339",
   "metadata": {},
   "outputs": [
    {
     "data": {
      "text/plain": [
       "148"
      ]
     },
     "execution_count": 22,
     "metadata": {},
     "output_type": "execute_result"
    }
   ],
   "source": [
    "len(predictions)\n"
   ]
  },
  {
   "cell_type": "code",
   "execution_count": 23,
   "id": "455b36ab",
   "metadata": {},
   "outputs": [
    {
     "name": "stdout",
     "output_type": "stream",
     "text": [
      "Confusion Matrix:\n",
      "[[ 1 76]\n",
      " [ 0 71]]\n",
      "Classification Report:\n",
      "              precision    recall  f1-score   support\n",
      "\n",
      "           0       1.00      0.01      0.03        77\n",
      "           1       0.48      1.00      0.65        71\n",
      "\n",
      "    accuracy                           0.49       148\n",
      "   macro avg       0.74      0.51      0.34       148\n",
      "weighted avg       0.75      0.49      0.33       148\n",
      "\n"
     ]
    }
   ],
   "source": [
    "from sklearn.metrics import confusion_matrix, classification_report\n",
    "\n",
    "true_labels = test_data.classes\n",
    "predicted_labels = (predictions > 0.5).astype(int)  \n",
    "\n",
    "cm = confusion_matrix(true_labels, predicted_labels)\n",
    "\n",
    "print(\"Confusion Matrix:\")\n",
    "print(cm)\n",
    "\n",
    "print(\"Classification Report:\")\n",
    "print(classification_report(true_labels, predicted_labels))"
   ]
  },
  {
   "cell_type": "code",
   "execution_count": null,
   "id": "eef35add",
   "metadata": {},
   "outputs": [],
   "source": []
  }
 ],
 "metadata": {
  "kernelspec": {
   "display_name": "Python 3 (ipykernel)",
   "language": "python",
   "name": "python3"
  },
  "language_info": {
   "codemirror_mode": {
    "name": "ipython",
    "version": 3
   },
   "file_extension": ".py",
   "mimetype": "text/x-python",
   "name": "python",
   "nbconvert_exporter": "python",
   "pygments_lexer": "ipython3",
   "version": "3.11.5"
  }
 },
 "nbformat": 4,
 "nbformat_minor": 5
}
