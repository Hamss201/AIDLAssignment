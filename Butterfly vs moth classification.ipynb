{
 "cells": [
  {
   "cell_type": "code",
   "execution_count": 3,
   "id": "baf06ca0",
   "metadata": {},
   "outputs": [],
   "source": [
    "train_dir = '/Users/user/OneDrive/Documents/archive/train'\n",
    "test_dir = '/Users/user/OneDrive/Documents/archive/test'"
   ]
  },
  {
   "cell_type": "code",
   "execution_count": 4,
   "id": "69db1f3b",
   "metadata": {},
   "outputs": [
    {
     "name": "stdout",
     "output_type": "stream",
     "text": [
      "101\n",
      "100\n",
      "77\n",
      "71\n"
     ]
    }
   ],
   "source": [
    "import os\n",
    "print(len(os.listdir('/Users/user/OneDrive/Documents/archive/train/Butterflies')))\n",
    "print(len(os.listdir('/Users/user/OneDrive/Documents/archive/train/Moth')))\n",
    "print(len(os.listdir('/Users/user/OneDrive/Documents/archive/test/Butterflies')))\n",
    "print(len(os.listdir('/Users/user/OneDrive/Documents/archive/test/Moth')))"
   ]
  },
  {
   "cell_type": "code",
   "execution_count": 5,
   "id": "072f9c5e",
   "metadata": {},
   "outputs": [
    {
     "name": "stdout",
     "output_type": "stream",
     "text": [
      "Found 161 images belonging to 2 classes.\n",
      "Found 40 images belonging to 2 classes.\n"
     ]
    }
   ],
   "source": [
    "import tensorflow as tf\n",
    "from tensorflow.keras.preprocessing.image import ImageDataGenerator\n",
    "\n",
    "train_datagen = ImageDataGenerator(\n",
    "    rescale=1./255,\n",
    "    validation_split=0.2  \n",
    ")\n",
    "\n",
    "train_data = train_datagen.flow_from_directory(\n",
    "    train_dir,\n",
    "    target_size=(256,256),\n",
    "    batch_size=32,\n",
    "    class_mode='binary', \n",
    "    subset='training'  \n",
    ")\n",
    "\n",
    "validation_datagen = ImageDataGenerator(\n",
    "    rescale=1./255,\n",
    "    validation_split=0.2  \n",
    ")\n",
    "\n",
    "validation_data = validation_datagen.flow_from_directory(\n",
    "    train_dir,\n",
    "    target_size=(256,256),\n",
    "    batch_size=32,\n",
    "    class_mode='binary',\n",
    "    subset='validation'  \n",
    ")"
   ]
  },
  {
   "cell_type": "code",
   "execution_count": 6,
   "id": "dcd7d214",
   "metadata": {},
   "outputs": [],
   "source": [
    "from tensorflow import keras\n",
    "from keras import Sequential\n",
    "from keras.layers import Dense,Conv2D,MaxPooling2D,Flatten,BatchNormalization,UpSampling2D, Dropout"
   ]
  },
  {
   "cell_type": "code",
   "execution_count": 7,
   "id": "20af3008",
   "metadata": {},
   "outputs": [
    {
     "name": "stdout",
     "output_type": "stream",
     "text": [
      "WARNING:tensorflow:From C:\\Users\\user\\anaconda3\\Lib\\site-packages\\keras\\src\\backend.py:873: The name tf.get_default_graph is deprecated. Please use tf.compat.v1.get_default_graph instead.\n",
      "\n",
      "WARNING:tensorflow:From C:\\Users\\user\\anaconda3\\Lib\\site-packages\\keras\\src\\layers\\pooling\\max_pooling2d.py:161: The name tf.nn.max_pool is deprecated. Please use tf.nn.max_pool2d instead.\n",
      "\n"
     ]
    }
   ],
   "source": [
    "model = Sequential()\n",
    "\n",
    "model.add(Conv2D(32,kernel_size=(3,3),padding='valid',activation='relu',input_shape=(256,256,3)))  \n",
    "model.add(MaxPooling2D(pool_size=(2,2),strides=2,padding='valid'))\n",
    "\n",
    "model.add(Conv2D(64,kernel_size=(3,3),padding='valid',activation='relu'))\n",
    "model.add(MaxPooling2D(pool_size=(2,2),strides=2,padding='valid'))\n",
    "\n",
    "model.add(Conv2D(128,kernel_size=(3,3),padding='valid',activation='relu'))\n",
    "model.add(MaxPooling2D(pool_size=(2,2),strides=2,padding='valid'))\n",
    "\n",
    "model.add(Flatten())\n",
    "\n",
    "model.add(Dense(128,activation='relu'))   \n",
    "model.add(Dense(64,activation='relu'))\n",
    "model.add(Dense(1,activation='sigmoid'))  "
   ]
  },
  {
   "cell_type": "code",
   "execution_count": 8,
   "id": "029ee3bd",
   "metadata": {},
   "outputs": [],
   "source": [
    "from keras.optimizers import Adam\n",
    "model.compile(optimizer=Adam(learning_rate=0.001),loss='binary_crossentropy',metrics=['accuracy'])"
   ]
  },
  {
   "cell_type": "code",
   "execution_count": 9,
   "id": "b697ee28",
   "metadata": {},
   "outputs": [
    {
     "name": "stdout",
     "output_type": "stream",
     "text": [
      "Epoch 1/22\n",
      "WARNING:tensorflow:From C:\\Users\\user\\anaconda3\\Lib\\site-packages\\keras\\src\\utils\\tf_utils.py:492: The name tf.ragged.RaggedTensorValue is deprecated. Please use tf.compat.v1.ragged.RaggedTensorValue instead.\n",
      "\n",
      "WARNING:tensorflow:From C:\\Users\\user\\anaconda3\\Lib\\site-packages\\keras\\src\\engine\\base_layer_utils.py:384: The name tf.executing_eagerly_outside_functions is deprecated. Please use tf.compat.v1.executing_eagerly_outside_functions instead.\n",
      "\n",
      "6/6 [==============================] - 8s 1s/step - loss: 0.8294 - accuracy: 0.5590 - val_loss: 0.6934 - val_accuracy: 0.5000\n",
      "Epoch 2/22\n",
      "6/6 [==============================] - 5s 1s/step - loss: 0.6953 - accuracy: 0.5217 - val_loss: 0.6907 - val_accuracy: 0.5000\n",
      "Epoch 3/22\n",
      "6/6 [==============================] - 6s 940ms/step - loss: 0.6940 - accuracy: 0.4907 - val_loss: 0.6738 - val_accuracy: 0.6500\n",
      "Epoch 4/22\n",
      "6/6 [==============================] - 6s 929ms/step - loss: 0.6238 - accuracy: 0.6646 - val_loss: 0.7244 - val_accuracy: 0.5250\n",
      "Epoch 5/22\n",
      "6/6 [==============================] - 5s 765ms/step - loss: 0.6230 - accuracy: 0.5901 - val_loss: 0.6961 - val_accuracy: 0.5500\n",
      "Epoch 6/22\n",
      "6/6 [==============================] - 5s 804ms/step - loss: 0.5858 - accuracy: 0.6708 - val_loss: 0.6238 - val_accuracy: 0.7000\n",
      "Epoch 7/22\n",
      "6/6 [==============================] - 5s 810ms/step - loss: 0.5232 - accuracy: 0.7453 - val_loss: 0.8025 - val_accuracy: 0.5250\n",
      "Epoch 8/22\n",
      "6/6 [==============================] - 5s 978ms/step - loss: 0.4624 - accuracy: 0.8261 - val_loss: 0.6878 - val_accuracy: 0.5000\n",
      "Epoch 9/22\n",
      "6/6 [==============================] - 5s 835ms/step - loss: 0.3992 - accuracy: 0.8012 - val_loss: 0.6696 - val_accuracy: 0.5000\n",
      "Epoch 10/22\n",
      "6/6 [==============================] - 5s 822ms/step - loss: 0.3037 - accuracy: 0.8820 - val_loss: 0.6835 - val_accuracy: 0.4500\n",
      "Epoch 11/22\n",
      "6/6 [==============================] - 5s 789ms/step - loss: 0.2437 - accuracy: 0.9130 - val_loss: 0.7058 - val_accuracy: 0.5500\n",
      "Epoch 12/22\n",
      "6/6 [==============================] - 5s 808ms/step - loss: 0.1794 - accuracy: 0.9193 - val_loss: 1.2577 - val_accuracy: 0.4750\n",
      "Epoch 13/22\n",
      "6/6 [==============================] - 5s 809ms/step - loss: 0.1669 - accuracy: 0.9379 - val_loss: 0.8270 - val_accuracy: 0.5750\n",
      "Epoch 14/22\n",
      "6/6 [==============================] - 5s 766ms/step - loss: 0.1115 - accuracy: 0.9876 - val_loss: 0.8197 - val_accuracy: 0.5750\n",
      "Epoch 15/22\n",
      "6/6 [==============================] - 5s 819ms/step - loss: 0.0648 - accuracy: 0.9814 - val_loss: 0.9610 - val_accuracy: 0.4750\n",
      "Epoch 16/22\n",
      "6/6 [==============================] - 5s 803ms/step - loss: 0.0689 - accuracy: 0.9689 - val_loss: 1.1994 - val_accuracy: 0.4750\n",
      "Epoch 17/22\n",
      "6/6 [==============================] - 5s 777ms/step - loss: 0.0289 - accuracy: 0.9938 - val_loss: 1.1220 - val_accuracy: 0.5250\n",
      "Epoch 18/22\n",
      "6/6 [==============================] - 5s 814ms/step - loss: 0.0140 - accuracy: 1.0000 - val_loss: 1.2801 - val_accuracy: 0.5500\n",
      "Epoch 19/22\n",
      "6/6 [==============================] - 5s 806ms/step - loss: 0.0228 - accuracy: 0.9938 - val_loss: 1.7734 - val_accuracy: 0.5250\n",
      "Epoch 20/22\n",
      "6/6 [==============================] - 5s 798ms/step - loss: 0.0065 - accuracy: 1.0000 - val_loss: 1.4411 - val_accuracy: 0.5000\n",
      "Epoch 21/22\n",
      "6/6 [==============================] - 5s 781ms/step - loss: 0.0044 - accuracy: 1.0000 - val_loss: 1.6114 - val_accuracy: 0.5000\n",
      "Epoch 22/22\n",
      "6/6 [==============================] - 5s 816ms/step - loss: 0.0019 - accuracy: 1.0000 - val_loss: 1.6756 - val_accuracy: 0.5500\n"
     ]
    }
   ],
   "source": [
    "history = model.fit(train_data, epochs=22, validation_data=validation_data)"
   ]
  },
  {
   "cell_type": "code",
   "execution_count": 10,
   "id": "8fb1991d",
   "metadata": {},
   "outputs": [
    {
     "data": {
      "image/png": "[encoded data removed]",
      "text/plain": [
       "<Figure size 640x480 with 1 Axes>"
      ]
     },
     "metadata": {},
     "output_type": "display_data"
    }
   ],
   "source": [
    "import matplotlib.pyplot as plt\n",
    "\n",
    "plt.plot(history.history['accuracy'],color='red',label='train')\n",
    "plt.plot(history.history['val_accuracy'],color='blue',label='validation')\n",
    "plt.legend()\n",
    "plt.show()\n"
   ]
  },
  {
   "cell_type": "code",
   "execution_count": 11,
   "id": "f8f1a9f8",
   "metadata": {},
   "outputs": [
    {
     "data": {
      "image/png": "[encoded data removed]",
      "text/plain": [
       "<Figure size 640x480 with 1 Axes>"
      ]
     },
     "metadata": {},
     "output_type": "display_data"
    }
   ],
   "source": [
    "plt.plot(history.history['loss'],color='red',label='train')\n",
    "plt.plot(history.history['val_loss'],color='blue',label='validation')\n",
    "plt.legend()\n",
    "plt.show()\n"
   ]
  },
  {
   "cell_type": "code",
   "execution_count": 12,
   "id": "77a55a64",
   "metadata": {},
   "outputs": [
    {
     "name": "stdout",
     "output_type": "stream",
     "text": [
      "Found 148 images belonging to 2 classes.\n"
     ]
    }
   ],
   "source": [
    "test_datagen = ImageDataGenerator(rescale=1./255)\n",
    "test_data = test_datagen.flow_from_directory(\n",
    "    test_dir,\n",
    "    target_size=(256,256),\n",
    "    batch_size=32,\n",
    "    class_mode='binary'\n",
    ")"
   ]
  },
  {
   "cell_type": "code",
   "execution_count": 13,
   "id": "fa721a9e",
   "metadata": {},
   "outputs": [
    {
     "name": "stdout",
     "output_type": "stream",
     "text": [
      "5/5 [==============================] - 2s 356ms/step\n",
      "[[2.12721943e-06]\n",
      " [2.52453060e-06]\n",
      " [1.00000000e+00]\n",
      " [1.00000000e+00]\n",
      " [9.99999940e-01]\n",
      " [1.55641725e-02]\n",
      " [1.53154400e-09]\n",
      " [1.45293551e-03]\n",
      " [7.40965537e-04]\n",
      " [9.99980509e-01]\n",
      " [9.99983728e-01]\n",
      " [9.95155394e-01]\n",
      " [9.56580818e-01]\n",
      " [2.35589305e-05]\n",
      " [2.27981526e-03]\n",
      " [9.99809384e-01]\n",
      " [9.89857674e-01]\n",
      " [1.34110098e-06]\n",
      " [1.77001819e-01]\n",
      " [9.99961138e-01]\n",
      " [9.99996185e-01]\n",
      " [2.21182218e-05]\n",
      " [8.99311544e-06]\n",
      " [4.36082228e-05]\n",
      " [1.00000000e+00]\n",
      " [9.99999881e-01]\n",
      " [4.02441591e-01]\n",
      " [1.38386316e-03]\n",
      " [1.62713768e-05]\n",
      " [2.58331893e-05]\n",
      " [3.39093589e-04]\n",
      " [9.99999404e-01]\n",
      " [9.99996126e-01]\n",
      " [3.27121199e-07]\n",
      " [9.98789787e-01]\n",
      " [9.96139407e-01]\n",
      " [5.46345487e-04]\n",
      " [5.60588815e-05]\n",
      " [2.58248338e-06]\n",
      " [9.99999464e-01]\n",
      " [9.99103785e-01]\n",
      " [9.99888361e-01]\n",
      " [1.60786385e-05]\n",
      " [2.41595089e-01]\n",
      " [5.75415252e-05]\n",
      " [1.85243785e-08]\n",
      " [5.67037836e-02]\n",
      " [9.99999881e-01]\n",
      " [8.21600258e-01]\n",
      " [2.18234254e-06]\n",
      " [7.29582753e-05]\n",
      " [1.47622452e-12]\n",
      " [3.27251655e-05]\n",
      " [4.22953644e-06]\n",
      " [9.99972463e-01]\n",
      " [4.31482156e-04]\n",
      " [1.00000000e+00]\n",
      " [2.97729148e-05]\n",
      " [1.00000000e+00]\n",
      " [9.99998689e-01]\n",
      " [9.99673963e-01]\n",
      " [1.49891124e-12]\n",
      " [9.99997318e-01]\n",
      " [5.83576853e-04]\n",
      " [9.50556278e-01]\n",
      " [9.99998629e-01]\n",
      " [2.70609319e-01]\n",
      " [9.99529064e-01]\n",
      " [9.99999940e-01]\n",
      " [7.97033281e-05]\n",
      " [9.99783278e-01]\n",
      " [1.21974335e-05]\n",
      " [9.99659717e-01]\n",
      " [9.87109076e-03]\n",
      " [5.23765857e-06]\n",
      " [1.45477047e-10]\n",
      " [1.00000000e+00]\n",
      " [1.00000000e+00]\n",
      " [3.91732715e-03]\n",
      " [2.66298826e-04]\n",
      " [5.31994831e-03]\n",
      " [9.67801571e-01]\n",
      " [9.99877989e-01]\n",
      " [4.31275159e-01]\n",
      " [1.02082512e-03]\n",
      " [2.16705175e-05]\n",
      " [9.99178827e-01]\n",
      " [1.59892393e-03]\n",
      " [4.16534441e-03]\n",
      " [1.59829998e-08]\n",
      " [1.40128986e-06]\n",
      " [1.14758290e-01]\n",
      " [6.51352644e-01]\n",
      " [9.99999881e-01]\n",
      " [1.40087138e-07]\n",
      " [1.00000000e+00]\n",
      " [1.60078550e-09]\n",
      " [4.60532732e-08]\n",
      " [9.99999285e-01]\n",
      " [9.99677718e-01]\n",
      " [9.99523818e-01]\n",
      " [7.65827863e-08]\n",
      " [1.49429491e-06]\n",
      " [3.10283298e-07]\n",
      " [9.99999940e-01]\n",
      " [9.99976218e-01]\n",
      " [9.98604357e-01]\n",
      " [4.01061140e-02]\n",
      " [1.00000000e+00]\n",
      " [9.99999762e-01]\n",
      " [1.23711127e-13]\n",
      " [1.11915050e-07]\n",
      " [9.71654773e-01]\n",
      " [9.99294817e-01]\n",
      " [9.99315023e-01]\n",
      " [4.17066254e-02]\n",
      " [9.99999404e-01]\n",
      " [9.92781997e-01]\n",
      " [9.18483156e-09]\n",
      " [9.22576964e-01]\n",
      " [9.99999404e-01]\n",
      " [2.45426986e-02]\n",
      " [4.82717907e-04]\n",
      " [9.99993563e-01]\n",
      " [1.00000000e+00]\n",
      " [1.00000000e+00]\n",
      " [9.99993443e-01]\n",
      " [8.00386711e-04]\n",
      " [3.58763128e-12]\n",
      " [5.61038632e-07]\n",
      " [9.99960303e-01]\n",
      " [1.39751296e-06]\n",
      " [3.46215069e-01]\n",
      " [3.32485797e-05]\n",
      " [1.47190454e-04]\n",
      " [9.99981701e-01]\n",
      " [1.97054842e-03]\n",
      " [9.98887599e-01]\n",
      " [8.28694756e-05]\n",
      " [9.99971986e-01]\n",
      " [9.99986768e-01]\n",
      " [1.62716696e-09]\n",
      " [9.99995053e-01]\n",
      " [9.95736480e-01]\n",
      " [3.73750954e-05]\n",
      " [1.41457487e-02]\n",
      " [4.85502838e-08]\n",
      " [9.99917686e-01]]\n"
     ]
    }
   ],
   "source": [
    "predictions = model.predict(test_data)\n",
    "print(predictions)\n"
   ]
  },
  {
   "cell_type": "code",
   "execution_count": 14,
   "id": "a8d56409",
   "metadata": {},
   "outputs": [
    {
     "data": {
      "text/plain": [
       "148"
      ]
     },
     "execution_count": 14,
     "metadata": {},
     "output_type": "execute_result"
    }
   ],
   "source": [
    "len(predictions)"
   ]
  },
  {
   "cell_type": "code",
   "execution_count": 15,
   "id": "61fa20ac",
   "metadata": {},
   "outputs": [
    {
     "name": "stdout",
     "output_type": "stream",
     "text": [
      "Confusion Matrix:\n",
      "[[42 35]\n",
      " [37 34]]\n",
      "Classification Report:\n",
      "              precision    recall  f1-score   support\n",
      "\n",
      "           0       0.53      0.55      0.54        77\n",
      "           1       0.49      0.48      0.49        71\n",
      "\n",
      "    accuracy                           0.51       148\n",
      "   macro avg       0.51      0.51      0.51       148\n",
      "weighted avg       0.51      0.51      0.51       148\n",
      "\n"
     ]
    }
   ],
   "source": [
    "from sklearn.metrics import confusion_matrix, classification_report\n",
    "\n",
    "true_labels = test_data.classes\n",
    "predicted_labels = (predictions > 0.5).astype(int)  \n",
    "\n",
    "cm = confusion_matrix(true_labels, predicted_labels)\n",
    "\n",
    "print(\"Confusion Matrix:\")\n",
    "print(cm)\n",
    "\n",
    "print(\"Classification Report:\")\n",
    "print(classification_report(true_labels, predicted_labels))\n"
   ]
  },
  {
   "cell_type": "code",
   "execution_count": null,
   "id": "fe50e2db",
   "metadata": {},
   "outputs": [],
   "source": []
  }
 ],
 "metadata": {
  "kernelspec": {
   "display_name": "Python 3 (ipykernel)",
   "language": "python",
   "name": "python3"
  },
  "language_info": {
   "codemirror_mode": {
    "name": "ipython",
    "version": 3
   },
   "file_extension": ".py",
   "mimetype": "text/x-python",
   "name": "python",
   "nbconvert_exporter": "python",
   "pygments_lexer": "ipython3",
   "version": "3.11.5"
  }
 },
 "nbformat": 4,
 "nbformat_minor": 5
}
